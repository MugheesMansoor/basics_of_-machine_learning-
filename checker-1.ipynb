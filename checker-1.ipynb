{
 "cells": [
  {
   "cell_type": "code",
   "execution_count": 1,
   "metadata": {},
   "outputs": [
    {
     "name": "stdout",
     "output_type": "stream",
     "text": [
      "Coefficients:  [0.6]\n",
      "Intercept:  2.2\n"
     ]
    }
   ],
   "source": [
    "import pandas as pd \n",
    "import numpy as np\n",
    "import seaborn as sns \n",
    "from sklearn.linear_model import LinearRegression\n",
    "\n",
    "# Creating a small dataset\n",
    "data = {'X': [1, 2, 3, 4, 5],\n",
    "        'Y': [2, 4, 5, 4, 5]}\n",
    "df = pd.DataFrame(data)\n",
    "\n",
    "# Extracting features and target variable\n",
    "X = df[['X']]\n",
    "y = df['Y']\n",
    "\n",
    "# Creating a Linear Regression model\n",
    "model = LinearRegression()\n",
    "\n",
    "# Fitting the model\n",
    "model.fit(X, y)\n",
    "\n",
    "# Making predictions\n",
    "predictions = model.predict(X)\n",
    "\n",
    "# Printing the coefficients\n",
    "print('Coefficients: ', model.coef_)\n",
    "\n",
    "# Printing the intercept\n",
    "print('Intercept: ', model.intercept_)"
   ]
  },
  {
   "cell_type": "code",
   "execution_count": null,
   "metadata": {},
   "outputs": [],
   "source": []
  }
 ],
 "metadata": {
  "kernelspec": {
   "display_name": "python_ml",
   "language": "python",
   "name": "python3"
  },
  "language_info": {
   "codemirror_mode": {
    "name": "ipython",
    "version": 3
   },
   "file_extension": ".py",
   "mimetype": "text/x-python",
   "name": "python",
   "nbconvert_exporter": "python",
   "pygments_lexer": "ipython3",
   "version": "3.11.9"
  }
 },
 "nbformat": 4,
 "nbformat_minor": 2
}
